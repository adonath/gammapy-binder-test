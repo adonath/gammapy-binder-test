{
 "metadata": {
  "name": "",
  "signature": "sha256:7c528f89bf547513d96252dcb2d8cc8500aaf0341708ec71901bd3092231b71c"
 },
 "nbformat": 3,
 "nbformat_minor": 0,
 "worksheets": [
  {
   "cells": [
    {
     "cell_type": "code",
     "collapsed": false,
     "input": [
      "%matplotlib inline\n",
      "import numpy as np\n",
      "import matplotlib.pyplot as plt\n",
      "from astropy.io import fits"
     ],
     "language": "python",
     "metadata": {},
     "outputs": [],
     "prompt_number": 1
    },
    {
     "cell_type": "code",
     "collapsed": false,
     "input": [
      "# Parameters\n",
      "TOTAL_COUNTS = 1e6\n",
      "SOURCE_FRACTION = 0.2\n",
      "\n",
      "CORRELATION_RADIUS = 0.1 # deg\n",
      "SIGNIFICANCE_THRESHOLD = 4.\n",
      "MASK_DILATION_RADIUS = 0.2 # deg\n",
      "NUMBER_OF_ITERATIONS = 3\n",
      "\n",
      "# Derived parameters\n",
      "DIFFUSE_FRACTION = 1. - SOURCE_FRACTION"
     ],
     "language": "python",
     "metadata": {},
     "outputs": [],
     "prompt_number": 87
    },
    {
     "cell_type": "code",
     "collapsed": false,
     "input": [
      "# Load example model images\n",
      "source_image_true = fits.getdata('sources.fits.gz')\n",
      "diffuse_image_true = fits.getdata('diffuse.fits.gz')"
     ],
     "language": "python",
     "metadata": {},
     "outputs": [],
     "prompt_number": 88
    },
    {
     "cell_type": "code",
     "collapsed": false,
     "input": [
      "# Generate example data\n",
      "source_image_true *= SOURCE_FRACTION * TOTAL_COUNTS / source_image_true.sum()\n",
      "diffuse_image_true *= DIFFUSE_FRACTION * TOTAL_COUNTS / diffuse_image_true.sum()\n",
      "total_image_true = source_image_true + diffuse_image_true\n",
      "\n",
      "counts = np.random.poisson(total_image_true)\n",
      "\n",
      "print('source counts: {0}'.format(source_image_true.sum()))\n",
      "print('diffuse counts: {0}'.format(diffuse_image_true.sum()))"
     ],
     "language": "python",
     "metadata": {},
     "outputs": [
      {
       "output_type": "stream",
       "stream": "stdout",
       "text": [
        "source counts: 200000.0\n",
        "diffuse counts: 800000.0\n"
       ]
      }
     ],
     "prompt_number": 89
    },
    {
     "cell_type": "code",
     "collapsed": false,
     "input": [
      "# If you want to check the input images plot them here:\n",
      "#plt.figure(figsize=(0,10))\n",
      "#plt.imshow(source_image_true)\n",
      "#plt.imshow(np.log(counts))"
     ],
     "language": "python",
     "metadata": {},
     "outputs": [],
     "prompt_number": 90
    },
    {
     "cell_type": "code",
     "collapsed": false,
     "input": [
      "import logging\n",
      "logging.basicConfig(level=logging.INFO)\n",
      "from scipy.ndimage import convolve\n",
      "from gammapy.stats import significance"
     ],
     "language": "python",
     "metadata": {},
     "outputs": [],
     "prompt_number": 92
    },
    {
     "cell_type": "code",
     "collapsed": false,
     "input": [
      "class GammaImages(object):\n",
      "    \"\"\"Container for a set of related images.\n",
      "    \n",
      "    Meaning of mask:\n",
      "    * 1 = background region\n",
      "    * 0 = source region\n",
      "    (such that multiplying with the mask zeros out the source regions)\n",
      "\n",
      "    TODO: document\n",
      "    \"\"\"\n",
      "    def __init__(self, counts, background=None, mask=None):\n",
      "        self.counts = np.asarray(counts, dtype=float)\n",
      "\n",
      "        if background == None:\n",
      "            # Start with a flat background estimate\n",
      "            self.background = np.ones_like(background, dtype=float)\n",
      "        else:\n",
      "            self.background = np.asarray(background, dtype=float)\n",
      "\n",
      "        if mask == None:\n",
      "            self.mask = np.ones_like(counts, dtype=bool)\n",
      "        else:\n",
      "            self.mask = np.asarray(mask, dtype=bool)\n",
      "    \n",
      "    def compute_correlated_maps(self, kernel):\n",
      "        \"\"\"Compute significance image for a given kernel.\n",
      "        \"\"\"\n",
      "        self.counts_corr = convolve(self.mask * self.counts, kernel)\n",
      "        self.background_corr = convolve(self.mask * self.background, kernel)\n",
      "        self.significance = significance(self.counts_corr, self.background_corr)\n",
      "\n",
      "        return self\n",
      "\n",
      "    def print_info(self):\n",
      "        logging.info('Counts sum: {0}'.format(self.counts.sum()))\n",
      "        logging.info('Background sum: {0}'.format(self.background.sum()))\n",
      "        background_fraction = 100. * self.background.sum() / self.background.sum()\n",
      "        logging.info('Background fraction: {0}'.format(background_fraction))\n",
      "        excluded_fraction = 100. * np.mean(self.mask)\n",
      "        logging.info('Mask fraction: {0}%'.format(excluded_fraction))\n",
      "    \n",
      "    def save(self, filename):\n",
      "        logging.info('Writing {0}'.format(filename))"
     ],
     "language": "python",
     "metadata": {},
     "outputs": [],
     "prompt_number": 93
    },
    {
     "cell_type": "code",
     "collapsed": false,
     "input": [
      "class IterativeBackgroundEstimator(object):\n",
      "    \"\"\"Iteratively estimate a background model.\n",
      "\n",
      "    TODO: document\n",
      "\n",
      "    Parameters\n",
      "    ----------\n",
      "    image : `GammaImages`\n",
      "        Gamma images\n",
      "\n",
      "    See also\n",
      "    --------\n",
      "    `gammapy.detect.CWT`\n",
      "    \"\"\"\n",
      "    def __init__(self, images, source_kernel, background_kernel,\n",
      "                 significance_threshold, mask_dilation_radius,\n",
      "                 delete_intermediate_results=True):\n",
      "        \n",
      "        # self._data[i] is a GammaImages object representing iteration number `i`.\n",
      "        self._data = list()\n",
      "        self._data.append(images)\n",
      "        \n",
      "        self.source_kernel = source_kernel\n",
      "        self.background_kernel = background_kernel\n",
      "\n",
      "        self.significance_threshold = significance_threshold\n",
      "        self.mask_dilation_radius = mask_dilation_radius\n",
      "        \n",
      "        self.delete_intermediate_results = delete_intermediate_results\n",
      "    \n",
      "    def run(self, n_iterations):\n",
      "        \"\"\"Run N iterations.\"\"\"\n",
      "        for ii in range(n_iterations):\n",
      "            logging.info('Running iteration #{0}'.format(ii))\n",
      "            self.run_iteration()\n",
      "            if self.delete_intermediate_results:\n",
      "                # Remove results from previous iteration\n",
      "                del self._data[0]\n",
      "\n",
      "    def run_iteration(self):\n",
      "        \"\"\"Run one iteration.\"\"\"\n",
      "        # Start with images from the last iteration\n",
      "        images = self._data[-1]\n",
      "        \n",
      "        logging.info('*** INPUT IMAGES ***')\n",
      "        images.print_info()\n",
      "\n",
      "        # Compute new exclusion mask:\n",
      "        # Threshold and dilate old significance image\n",
      "        logging.info('Computing source kernel correlated images.')\n",
      "        images = images.compute_correlated_maps(self.source_kernel)\n",
      "\n",
      "        logging.info('Computing new exclusion mask')\n",
      "        mask = np.where(images.significance > self.significance_threshold, 0, 1)#.astype(int)\n",
      "        mask = binary_dilation_circle(mask, radius=self.mask_dilation_radius)\n",
      "        \n",
      "        # Compute new background estimate:\n",
      "        # Convolve old background estimate with background kernel,\n",
      "        # excluding sources via the old mask.\n",
      "        background_corr = convolve(images.mask * images.background, self.background_kernel)\n",
      "        mask_corr = convolve(images.mask, self.background_kernel)\n",
      "        background = background_corr / mask_corr\n",
      "        \n",
      "        # Store new images\n",
      "        images = GammaImages(counts, background, mask)\n",
      "        logging.info('*** OUTPUT IMAGES ***')\n",
      "        images.print_info()\n",
      "        self._data.append(images)\n",
      "    \n",
      "    def save(self, filebase):\n",
      "        logging.info('Writing {0}'.format(filename))\n",
      "        for ii, images in enumerate(self._data):\n",
      "            filename = filebase + '{0:02d}'.format(ii) + '.fits'\n",
      "            images.save(filename)"
     ],
     "language": "python",
     "metadata": {},
     "outputs": [],
     "prompt_number": 94
    },
    {
     "cell_type": "code",
     "collapsed": false,
     "input": [
      "# Start with flat background estimate\n",
      "background=np.ones_like(counts, dtype=float)\n",
      "images = GammaImages(counts=counts, background=background)\n",
      "\n",
      "# CORRELATION_RADIUS\n",
      "source_kernel = np.ones((5, 5))\n",
      "\n",
      "background_kernel = np.ones((100, 10))\n",
      "\n",
      "ibe = IterativeBackgroundEstimator(\n",
      "    images=images,\n",
      "    source_kernel=source_kernel,\n",
      "    background_kernel=background_kernel,\n",
      "    significance_threshold=SIGNIFICANCE_THRESHOLD,\n",
      "    mask_dilation_radius=MASK_DILATION_RADIUS\n",
      "    )\n",
      "\n",
      "ibe.run(n_iterations=3)"
     ],
     "language": "python",
     "metadata": {},
     "outputs": [
      {
       "output_type": "stream",
       "stream": "stdout",
       "text": [
        "Counts sum: 999231.0\n",
        "Background sum: 241001.0\n",
        "Background fraction: 100.0\n",
        "Mask fraction: 100.0%\n",
        "Counts sum: 999231.0"
       ]
      },
      {
       "output_type": "stream",
       "stream": "stdout",
       "text": [
        "\n",
        "Background sum: 1038797.41379\n",
        "Background fraction: 100.0\n",
        "Mask fraction: 59.3624092846%\n",
        "Counts sum: 999231.0\n",
        "Background sum: 1038797.41379\n",
        "Background fraction: 100.0\n",
        "Mask fraction: 59.3624092846%\n",
        "Counts sum: 999231.0"
       ]
      },
      {
       "output_type": "stream",
       "stream": "stdout",
       "text": [
        "\n",
        "Background sum: nan\n",
        "Background fraction: nan\n",
        "Mask fraction: 100.0%\n",
        "Counts sum: 999231.0\n",
        "Background sum: nan\n",
        "Background fraction: nan\n",
        "Mask fraction: 100.0%\n",
        "Counts sum: 999231.0"
       ]
      },
      {
       "output_type": "stream",
       "stream": "stdout",
       "text": [
        "\n",
        "Background sum: nan\n",
        "Background fraction: nan\n",
        "Mask fraction: 94.4821805719%\n"
       ]
      },
      {
       "output_type": "stream",
       "stream": "stderr",
       "text": [
        "-c:62: RuntimeWarning: divide by zero encountered in divide\n",
        "-c:62: RuntimeWarning: invalid value encountered in divide\n",
        "/Users/deil/Library/Python/2.7/lib/python/site-packages/gammapy-0.1-py2.7.egg/gammapy/stats/poisson.py:238: RuntimeWarning: invalid value encountered in add\n",
        "  term_b = sqrt(n_observed * log(n_observed / mu_background) - n_observed + mu_background)\n"
       ]
      }
     ],
     "prompt_number": 95
    },
    {
     "cell_type": "code",
     "collapsed": false,
     "input": [
      "ibe.run_iteration()"
     ],
     "language": "python",
     "metadata": {},
     "outputs": [
      {
       "output_type": "stream",
       "stream": "stdout",
       "text": [
        "Counts sum: 10030.0\n",
        "Background sum: 241001.0\n",
        "Background fraction: 100.0\n",
        "Mask fraction: 100.0%\n",
        "Counts sum: 10030.0"
       ]
      },
      {
       "output_type": "stream",
       "stream": "stdout",
       "text": [
        "\n",
        "Background sum: 1038797.41379\n",
        "Background fraction: 100.0\n",
        "Mask fraction: 99.8842328455%\n"
       ]
      }
     ],
     "prompt_number": 76
    },
    {
     "cell_type": "code",
     "collapsed": false,
     "input": [
      "ibe._data[1].print_info()"
     ],
     "language": "python",
     "metadata": {},
     "outputs": [
      {
       "output_type": "stream",
       "stream": "stdout",
       "text": [
        "Counts sum: 10030.0\n",
        "Background sum: 1038797.41379\n",
        "Background fraction: 100.0\n",
        "Mask fraction: 99.8842328455%\n"
       ]
      }
     ],
     "prompt_number": 78
    },
    {
     "cell_type": "code",
     "collapsed": false,
     "input": [],
     "language": "python",
     "metadata": {},
     "outputs": []
    }
   ],
   "metadata": {}
  }
 ]
}