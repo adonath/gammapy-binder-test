{
 "cells": [
  {
   "cell_type": "markdown",
   "metadata": {},
   "source": [
    "# SNRCat vs. Green's SNR catalog\n",
    "\n",
    "This is a quick check on SNR positions and extensions from:\n",
    "\n",
    "* SNRCat [webpage](http://www.physics.umanitoba.ca/snr/SNRcat/)\n",
    "* Green's SNR catalog\n",
    "  [webpage](https://www.mrao.cam.ac.uk/surveys/snrs/),\n",
    "  [vizier](http://vizier.u-strasbg.fr/viz-bin/VizieR?-source=VII/272)\n",
    "\n",
    "## Some setup\n",
    "\n",
    "We can get the Green and (soon) SNRCat as an Astropy table via gammapy.datasets:\n",
    "\n",
    "* https://gammapy.readthedocs.org/en/latest/api/gammapy.datasets.load_catalog_green.html\n",
    "* https://github.com/gammapy/gammapy/pull/262"
   ]
  },
  {
   "cell_type": "code",
   "execution_count": 2,
   "metadata": {
    "collapsed": false
   },
   "outputs": [],
   "source": [
    "%matplotlib inline\n",
    "import numpy as np\n",
    "import matplotlib.pyplot as plt\n",
    "from gammapy.datasets import load_catalog_green, fetch_catalog_snrcat"
   ]
  },
  {
   "cell_type": "code",
   "execution_count": 3,
   "metadata": {
    "collapsed": false
   },
   "outputs": [
    {
     "name": "stdout",
     "output_type": "stream",
     "text": [
      "['Source_Name', 'RAJ2000', 'DEJ2000', 'GLON', 'GLAT', 'MeanDiam', 'MajDiam', 'MinDiam', 'u_MinDiam', 'l_S_1GHz_', 'S_1GHz_', 'u_S_1GHz_', 'Sp-Index', 'u_Sp-Index', 'type', 'Names']\n"
     ]
    }
   ],
   "source": [
    "green = load_catalog_green()\n",
    "print(green.colnames)"
   ]
  },
  {
   "cell_type": "code",
   "execution_count": 4,
   "metadata": {
    "collapsed": false
   },
   "outputs": [
    {
     "name": "stdout",
     "output_type": "stream",
     "text": [
      "Downloading http://www.physics.umanitoba.ca/snr/SNRcat/SNRdownload.php?table=SNR [Done]\n",
      "['Source_Name', 'GLON', 'GLAT', 'Source_JName', 'RAJ2000_str', 'RAJ2000', 'DEJ2000_str', 'DEJ2000', 'id_uncertain', 'id_alt', 'id_old', 'type', 'type_uncertain', 'context', 'remnant', 'SN_year', 'SN_association', 'age_min', 'age_max', 'age', 'distance_min', 'distance_max', 'distance', 'size_radio_mean', 'size_imprecise', 'size_radio_str', 'size_xray_str']\n"
     ]
    }
   ],
   "source": [
    "snrcat = fetch_catalog_snrcat(cache=False)\n",
    "print(snrcat.colnames)"
   ]
  },
  {
   "cell_type": "markdown",
   "metadata": {},
   "source": [
    "## Is Green a subset of SNRCat?\n",
    "\n",
    "Yes it is, all OK."
   ]
  },
  {
   "cell_type": "code",
   "execution_count": 5,
   "metadata": {
    "collapsed": false
   },
   "outputs": [
    {
     "name": "stdout",
     "output_type": "stream",
     "text": [
      "294\n"
     ]
    }
   ],
   "source": [
    "print(len(green))"
   ]
  },
  {
   "cell_type": "code",
   "execution_count": 6,
   "metadata": {
    "collapsed": false
   },
   "outputs": [
    {
     "name": "stdout",
     "output_type": "stream",
     "text": [
      "378\n"
     ]
    }
   ],
   "source": [
    "print(len(snrcat))"
   ]
  },
  {
   "cell_type": "code",
   "execution_count": 7,
   "metadata": {
    "collapsed": false
   },
   "outputs": [
    {
     "data": {
      "text/plain": [
       "True"
      ]
     },
     "execution_count": 7,
     "metadata": {},
     "output_type": "execute_result"
    }
   ],
   "source": [
    "set(green['Source_Name']).issubset(snrcat['Source_Name'])"
   ]
  },
  {
   "cell_type": "markdown",
   "metadata": {},
   "source": [
    "## Join catalogs\n",
    "\n",
    "In order to be able to do checks we need to join the two catalogs.\n",
    "\n",
    "We do an inner join, i.e. the output table will only contain the SNRs that are in both catalogs."
   ]
  },
  {
   "cell_type": "code",
   "execution_count": 7,
   "metadata": {
    "collapsed": false
   },
   "outputs": [
    {
     "name": "stdout",
     "output_type": "stream",
     "text": [
      "294\n",
      "['Source_Name', 'Green_RAJ2000', 'Green_DEJ2000', 'Green_GLON', 'Green_GLAT', 'Green_Dmean', 'Green_Dmaj', 'Green_Dmin', 'Green_u_Dmin', 'Green_l_S_1GHz_', 'Green_S_1GHz_', 'Green_u_S_1GHz_', 'Green_alpha', 'Green_u_alpha', 'Green_type', 'Green_Names', 'SNRCat_GLON', 'SNRCat_GLAT', 'SNRCat_Source_JName', 'SNRCat_J_ra', 'SNRCat_J_dec', 'SNRCat_DEJ2000', 'SNRCat_RAJ2000', 'SNRCat_id_uncertain', 'SNRCat_id_alt', 'SNRCat_id_old', 'SNRCat_type', 'SNRCat_type_uncertain', 'SNRCat_context', 'SNRCat_remnant', 'SNRCat_SN_year', 'SNRCat_SN_association', 'SNRCat_age_min', 'SNRCat_age_max', 'SNRCat_distance_min', 'SNRCat_distance_max', 'SNRCat_distance', 'SNRCat_size_radio', 'SNRCat_size_X']\n"
     ]
    }
   ],
   "source": [
    "from astropy.table import join as table_join\n",
    "def tag_colnames(table, label):\n",
    "    table = table.copy()\n",
    "    for colname in table.colnames[1:]:\n",
    "        table.rename_column(colname, label + '_' + colname)\n",
    "    return table\n",
    "\n",
    "cat = table_join(tag_colnames(green, 'Green'),\n",
    "                 tag_colnames(snrcat, 'SNRCat')\n",
    "                )\n",
    "print(len(cat))\n",
    "print(cat.colnames)"
   ]
  },
  {
   "cell_type": "markdown",
   "metadata": {},
   "source": [
    "## Position check\n",
    "\n",
    "Most SNR positions are inconsistent at the 0 to 0.1 deg level.\n",
    "There's ~10 SNR with very inconsistent positions.\n",
    "\n",
    "I didn't check yet what the cause is ..."
   ]
  },
  {
   "cell_type": "code",
   "execution_count": 8,
   "metadata": {
    "collapsed": false
   },
   "outputs": [
    {
     "data": {
      "text/html": [
       "&lt;Table masked=True length=10&gt;\n",
       "<table id=\"table4403658200\">\n",
       "<thead><tr><th>Source_Name</th><th>separation</th><th>Green_RAJ2000</th><th>SNRCat_RAJ2000</th><th>Green_DEJ2000</th><th>SNRCat_DEJ2000</th></tr></thead>\n",
       "<thead><tr><th></th><th>deg</th><th>deg</th><th>deg</th><th>deg</th><th>deg</th></tr></thead>\n",
       "<thead><tr><th>str352</th><th>float64</th><th>float64</th><th>float64</th><th>float64</th><th>float64</th></tr></thead>\n",
       "<tr><td>G039.7-02.0</td><td>0.379263790658</td><td>288.0833</td><td>287.75</td><td>4.9167</td><td>5.1</td></tr>\n",
       "<tr><td>G279.0+01.1</td><td>0.381962974564</td><td>149.4167</td><td>149.775</td><td>-53.25</td><td>-53.5666666667</td></tr>\n",
       "<tr><td>G213.0-00.6</td><td>0.395157927958</td><td>102.7083</td><td>102.35</td><td>-0.5</td><td>-0.333333333333</td></tr>\n",
       "<tr><td>G160.9+02.6</td><td>0.502641421831</td><td>75.25</td><td>75.45</td><td>46.6667</td><td>46.1833333333</td></tr>\n",
       "<tr><td>G330.0+15.0</td><td>0.561712677365</td><td>227.5</td><td>228.075</td><td>-40.0</td><td>-40.35</td></tr>\n",
       "<tr><td>G350.1-00.3</td><td>0.66198355093</td><td>259.4167</td><td>260.25</td><td>-37.4</td><td>-37.4</td></tr>\n",
       "<tr><td>G358.1+00.1</td><td>0.933542573811</td><td>264.25</td><td>265.15</td><td>-29.9833</td><td>-30.5</td></tr>\n",
       "<tr><td>G113.0+00.2</td><td>1.16013541419</td><td>354.1458</td><td>351.725</td><td>61.3667</td><td>61.4166666667</td></tr>\n",
       "<tr><td>G178.2-04.2</td><td>2.19986167513</td><td>83.7708</td><td>81.275</td><td>28.1833</td><td>28.1833333333</td></tr>\n",
       "<tr><td>G308.4-01.4</td><td>31.2853344983</td><td>280.375</td><td>205.3</td><td>-63.7333</td><td>-63.7333333333</td></tr>\n",
       "</table>"
      ],
      "text/plain": [
       "<Table masked=True length=10>\n",
       "Source_Name   separation   Green_RAJ2000 ... Green_DEJ2000  SNRCat_DEJ2000\n",
       "                 deg            deg      ...      deg            deg      \n",
       "   str352      float64        float64    ...    float64        float64    \n",
       "----------- -------------- ------------- ... ------------- ---------------\n",
       "G039.7-02.0 0.379263790658      288.0833 ...        4.9167             5.1\n",
       "G279.0+01.1 0.381962974564      149.4167 ...        -53.25  -53.5666666667\n",
       "G213.0-00.6 0.395157927958      102.7083 ...          -0.5 -0.333333333333\n",
       "G160.9+02.6 0.502641421831         75.25 ...       46.6667   46.1833333333\n",
       "G330.0+15.0 0.561712677365         227.5 ...         -40.0          -40.35\n",
       "G350.1-00.3  0.66198355093      259.4167 ...         -37.4           -37.4\n",
       "G358.1+00.1 0.933542573811        264.25 ...      -29.9833           -30.5\n",
       "G113.0+00.2  1.16013541419      354.1458 ...       61.3667   61.4166666667\n",
       "G178.2-04.2  2.19986167513       83.7708 ...       28.1833   28.1833333333\n",
       "G308.4-01.4  31.2853344983       280.375 ...      -63.7333  -63.7333333333"
      ]
     },
     "execution_count": 8,
     "metadata": {},
     "output_type": "execute_result"
    }
   ],
   "source": [
    "from astropy.coordinates import SkyCoord\n",
    "pos_green = SkyCoord(cat['Green_RAJ2000'], cat['Green_DEJ2000'], unit='deg', frame='icrs')\n",
    "pos_snrcat = SkyCoord(cat['SNRCat_RAJ2000'], cat['SNRCat_DEJ2000'], unit='deg', frame='icrs')\n",
    "cat['separation'] = pos_green.separation(pos_snrcat)\n",
    "cat.sort('separation')\n",
    "cat[-10:][['Source_Name', 'separation', 'Green_RAJ2000', 'SNRCat_RAJ2000',\n",
    "           'Green_DEJ2000', 'SNRCat_DEJ2000']]"
   ]
  },
  {
   "cell_type": "code",
   "execution_count": 9,
   "metadata": {
    "collapsed": false
   },
   "outputs": [
    {
     "data": {
      "image/png": "[encoded data removed]",
      "text/plain": [
       "<matplotlib.figure.Figure at 0x10296f978>"
      ]
     },
     "metadata": {},
     "output_type": "display_data"
    }
   ],
   "source": [
    "plt.hist(cat['separation'], bins=np.linspace(0, 0.5, 50));"
   ]
  },
  {
   "cell_type": "markdown",
   "metadata": {},
   "source": [
    "Green's catalog only contains RA, DEC position: http://vizier.u-strasbg.fr/viz-bin/VizieR?-source=VII/272\n",
    "I compute the GLON, GLAT position with Astropy, so by definition they are consistent: https://github.com/gammapy/gammapy-extra/blob/master/datasets/catalogs/make_green.py\n",
    "\n",
    "The SNRCat (RA, DEC) position is inconsistent with the (GLON, GLAT) position at the 0 to 0.02 deg level. \n",
    "\n",
    "Probably the reason is that positions aren't stored with enough digits?\n",
    "\n",
    "This should be fixed, i.e. GLON, GLAT made consistent with RA, DEC.\n",
    "If this is not desired for some reason, either GLON, GLAT or RA, DEC should be removed (keep the more accurate one if there is such a thing), leaving the computation of the other up to the user (e.g. using TOPCAT or Astropy)."
   ]
  },
  {
   "cell_type": "code",
   "execution_count": 10,
   "metadata": {
    "collapsed": false
   },
   "outputs": [
    {
     "data": {
      "image/png": "[encoded data removed]",
      "text/plain": [
       "<matplotlib.figure.Figure at 0x106972b38>"
      ]
     },
     "metadata": {},
     "output_type": "display_data"
    }
   ],
   "source": [
    "pos_icrs = SkyCoord(snrcat['RAJ2000'], snrcat['DEJ2000'], unit='deg', frame='icrs')\n",
    "pos_galactic = SkyCoord(snrcat['GLON'], snrcat['GLAT'], unit='deg', frame='galactic')\n",
    "separation = pos_icrs.separation(pos_galactic)\n",
    "plt.hist(separation, bins=50);"
   ]
  },
  {
   "cell_type": "markdown",
   "metadata": {},
   "source": [
    "## Extension check\n",
    "\n",
    "For HGPS we currently plan to represent radio SNRs as circles for association and on sky images, probably with diameter = geometric mean of major and minor diameter in case of elongated SNRs.\n",
    "\n",
    "Here's a check comparing these SNR diameters from Green against SNRCat.\n",
    "\n",
    "For now we have to parse the extension text field from SNRCat ... hopefully they will add float columns in the future so that this is not necessary."
   ]
  },
  {
   "cell_type": "code",
   "execution_count": 11,
   "metadata": {
    "collapsed": false
   },
   "outputs": [
    {
     "data": {
      "image/png": "[encoded data removed]",
      "text/plain": [
       "<matplotlib.figure.Figure at 0x106917d30>"
      ]
     },
     "metadata": {},
     "output_type": "display_data"
    }
   ],
   "source": [
    "cat['Green_Dmean'] = cat['Green_Dmean'] / 60. # in degree\n",
    "plt.hist(cat['Green_Dmean'], bins=50);"
   ]
  },
  {
   "cell_type": "code",
   "execution_count": 12,
   "metadata": {
    "collapsed": false
   },
   "outputs": [
    {
     "data": {
      "image/png": "[encoded data removed]",
      "text/plain": [
       "<matplotlib.figure.Figure at 0x106c48e10>"
      ]
     },
     "metadata": {},
     "output_type": "display_data"
    }
   ],
   "source": [
    "def compute_mean_diameter(d_major, d_minor):\n",
    "    \"\"\"Compute geometric mean diameter (preserves area)\"\"\"\n",
    "    diameter = np.sqrt(d_major * d_minor)\n",
    "    # If no `d_minor` is given, use `d_major` as mean radius\n",
    "    with np.errstate(invalid='ignore'):\n",
    "        diameter = np.where(d_minor > 0, diameter, d_major)\n",
    "\n",
    "    return diameter\n",
    "\n",
    "def compute_snrcat_diameter(text_col):\n",
    "    from astropy.coordinates import Angle\n",
    "    d_mean = []\n",
    "    for text in text_col:\n",
    "        # Parse this text field:\n",
    "        if 'x' in text:\n",
    "            a, b = text.split('x')\n",
    "            d_major = Angle(a).deg\n",
    "            d_minor = Angle(b).deg\n",
    "        else:\n",
    "            d_major = Angle(text).deg\n",
    "            d_minor = d_major\n",
    "        d_mean.append(compute_mean_diameter(d_major, d_minor))\n",
    "\n",
    "    return d_mean\n",
    "\n",
    "cat['SNRCat_Dmean'] = compute_snrcat_diameter(cat['SNRCat_size_radio'])\n",
    "plt.hist(cat['SNRCat_Dmean'], bins=50);"
   ]
  },
  {
   "cell_type": "code",
   "execution_count": 13,
   "metadata": {
    "collapsed": false
   },
   "outputs": [
    {
     "data": {
      "text/plain": [
       "<matplotlib.collections.PathCollection at 0x106ec1978>"
      ]
     },
     "execution_count": 13,
     "metadata": {},
     "output_type": "execute_result"
    },
    {
     "data": {
      "image/png": "[encoded data removed]",
      "text/plain": [
       "<matplotlib.figure.Figure at 0x10296f9b0>"
      ]
     },
     "metadata": {},
     "output_type": "display_data"
    }
   ],
   "source": [
    "plt.scatter(cat['Green_Dmean'], cat['SNRCat_Dmean'])"
   ]
  },
  {
   "cell_type": "code",
   "execution_count": 14,
   "metadata": {
    "collapsed": false
   },
   "outputs": [
    {
     "data": {
      "text/html": [
       "&lt;Table masked=True length=10&gt;\n",
       "<table id=\"table4411217736\">\n",
       "<thead><tr><th>Source_Name</th><th>d_abs</th><th>Green_Dmean</th><th>SNRCat_Dmean</th><th>SNRCat_size_radio</th><th>Green_Dmaj</th><th>Green_Dmin</th></tr></thead>\n",
       "<thead><tr><th></th><th>arcmin</th><th>arcmin</th><th></th><th></th><th>arcmin</th><th>arcmin</th></tr></thead>\n",
       "<thead><tr><th>str352</th><th>float64</th><th>float32</th><th>float64</th><th>str544</th><th>float32</th><th>float32</th></tr></thead>\n",
       "<tr><td>G156.2+05.7</td><td>3.97364299243e-08</td><td>1.83333</td><td>1.83333333333</td><td>110&apos;</td><td>110.0</td><td>nan</td></tr>\n",
       "<tr><td>G093.7-00.2</td><td>3.97364299243e-08</td><td>1.33333</td><td>1.33333333333</td><td>80&apos;</td><td>80.0</td><td>nan</td></tr>\n",
       "<tr><td>G279.0+01.1</td><td>3.97364299243e-08</td><td>1.58333</td><td>1.58333333333</td><td>95&apos;</td><td>95.0</td><td>nan</td></tr>\n",
       "<tr><td>G347.3-00.5</td><td>4.2362348962e-08</td><td>0.996522</td><td>0.996521728592</td><td>65&apos;x55&apos;</td><td>65.0</td><td>55.0</td></tr>\n",
       "<tr><td>G082.2+05.3</td><td>4.68043008794e-08</td><td>1.30969</td><td>1.30968613713</td><td>95&apos;x65&apos;</td><td>95.0</td><td>65.0</td></tr>\n",
       "<tr><td>G261.9+05.5</td><td>4.9242228517e-08</td><td>0.57735</td><td>0.57735026919</td><td>40&apos;x30&apos;</td><td>40.0</td><td>30.0</td></tr>\n",
       "<tr><td>G205.5+00.5</td><td>7.94728598486e-08</td><td>3.66667</td><td>3.66666666667</td><td>220&apos;</td><td>220.0</td><td>nan</td></tr>\n",
       "<tr><td>G116.5+01.1</td><td>9.8484457034e-08</td><td>1.1547</td><td>1.15470053838</td><td>80&apos;x60&apos;</td><td>80.0</td><td>60.0</td></tr>\n",
       "<tr><td>G054.1+00.3</td><td>0.0666666696469</td><td>0.2</td><td>0.133333333333</td><td>8&apos;</td><td>12.0</td><td>nan</td></tr>\n",
       "<tr><td>G065.7+01.2</td><td>0.116666674614</td><td>0.366667</td><td>0.25</td><td>15&apos;</td><td>22.0</td><td>nan</td></tr>\n",
       "</table>"
      ],
      "text/plain": [
       "<Table masked=True length=10>\n",
       "Source_Name       d_abs       Green_Dmean ... Green_Dmaj Green_Dmin\n",
       "                  arcmin         arcmin   ...   arcmin     arcmin  \n",
       "   str352        float64        float32   ...  float32    float32  \n",
       "----------- ----------------- ----------- ... ---------- ----------\n",
       "G156.2+05.7 3.97364299243e-08     1.83333 ...      110.0        nan\n",
       "G093.7-00.2 3.97364299243e-08     1.33333 ...       80.0        nan\n",
       "G279.0+01.1 3.97364299243e-08     1.58333 ...       95.0        nan\n",
       "G347.3-00.5  4.2362348962e-08    0.996522 ...       65.0       55.0\n",
       "G082.2+05.3 4.68043008794e-08     1.30969 ...       95.0       65.0\n",
       "G261.9+05.5  4.9242228517e-08     0.57735 ...       40.0       30.0\n",
       "G205.5+00.5 7.94728598486e-08     3.66667 ...      220.0        nan\n",
       "G116.5+01.1  9.8484457034e-08      1.1547 ...       80.0       60.0\n",
       "G054.1+00.3   0.0666666696469         0.2 ...       12.0        nan\n",
       "G065.7+01.2    0.116666674614    0.366667 ...       22.0        nan"
      ]
     },
     "execution_count": 14,
     "metadata": {},
     "output_type": "execute_result"
    }
   ],
   "source": [
    "# There's only two SNRs that are different: G054.1+00.3 and G065.7+01.2\n",
    "# Otherwise the extensions are identical\n",
    "cat['d_abs'] = cat['Green_Dmean'] - cat['SNRCat_Dmean']\n",
    "cat.sort('d_abs')\n",
    "cat[-10:][['Source_Name', 'd_abs', 'Green_Dmean', 'SNRCat_Dmean',\n",
    "           'SNRCat_size_radio', 'Green_Dmaj', 'Green_Dmin']]"
   ]
  },
  {
   "cell_type": "code",
   "execution_count": null,
   "metadata": {
    "collapsed": true
   },
   "outputs": [],
   "source": []
  }
 ],
 "metadata": {
  "kernelspec": {
   "display_name": "Python 2",
   "language": "python",
   "name": "python2"
  },
  "language_info": {
   "codemirror_mode": {
    "name": "ipython",
    "version": 2
   },
   "file_extension": ".py",
   "mimetype": "text/x-python",
   "name": "python",
   "nbconvert_exporter": "python",
   "pygments_lexer": "ipython2",
   "version": "2.7.6"
  }
 },
 "nbformat": 4,
 "nbformat_minor": 0
}
