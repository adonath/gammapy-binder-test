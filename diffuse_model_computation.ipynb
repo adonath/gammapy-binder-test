{
 "metadata": {
  "name": "",
  "signature": "sha256:ee23fe4060a057072af046c84ecee89126fc6687c0a16d3b5ba8c5018c92fce6"
 },
 "nbformat": 3,
 "nbformat_minor": 0,
 "worksheets": [
  {
   "cells": [
    {
     "cell_type": "heading",
     "level": 1,
     "metadata": {},
     "source": [
      "Diffuse model computation"
     ]
    },
    {
     "cell_type": "markdown",
     "metadata": {},
     "source": [
      "This notebook shows how to compute the follwing images:\n",
      "* integral surface brightness (cm^-2 s^-1 sr^-1)\n",
      "* expected counts (counts / bin) image assuming a constant exposure"
     ]
    },
    {
     "cell_type": "code",
     "collapsed": false,
     "input": [
      "import numpy as np\n",
      "from astropy.io import fits\n",
      "from astropy.units import Quantity"
     ],
     "language": "python",
     "metadata": {},
     "outputs": [],
     "prompt_number": 1
    },
    {
     "cell_type": "heading",
     "level": 2,
     "metadata": {},
     "source": [
      "Compute diffuse integral surface brightness image"
     ]
    },
    {
     "cell_type": "code",
     "collapsed": false,
     "input": [
      "from gammapy.spectral_cube import GammaSpectralCube\n",
      "cube = GammaSpectralCube.read('gll_iem_v05.fits')\n",
      "print(cube)\n",
      "\n",
      "energy_band = Quantity([10, 500], 'GeV').to('MeV')\n",
      "flux = cube.integral_flux_image(energy_band, energy_bins=10)\n",
      "# Note: \"flux\" means surface brightness in units of 'cm^-2 s^-1 sr^-1' here.\n",
      "flux.writeto('diffuse_integral_flux.fits', clobber=True)"
     ],
     "language": "python",
     "metadata": {},
     "outputs": [
      {
       "output_type": "stream",
       "stream": "stderr",
       "text": [
        "WARNING: Overwriting existing file 'diffuse_integral_flux.fits'. [astropy.io.fits.file]\n",
        "WARNING:astropy:Overwriting existing file 'diffuse_integral_flux.fits'.\n"
       ]
      },
      {
       "output_type": "stream",
       "stream": "stdout",
       "text": [
        "GammaSpectralCube with shape=(30, 1441, 2880) and unit=1 / (cm2 MeV s sr):\n",
        " n_x:  2880  type_x: GLON-CAR         unit_x: deg\n",
        " n_y:  1441  type_y: GLAT-CAR         unit_y: deg\n",
        " n_s:    30  type_s: Energy           unit_s: MeV\n"
       ]
      }
     ],
     "prompt_number": 2
    },
    {
     "cell_type": "code",
     "collapsed": false,
     "input": [
      "print(flux.data[1441/2, 2880/2]) # 8.805560757e-09"
     ],
     "language": "python",
     "metadata": {},
     "outputs": [
      {
       "output_type": "stream",
       "stream": "stdout",
       "text": [
        "8.805560757e-06\n"
       ]
      }
     ],
     "prompt_number": 3
    },
    {
     "cell_type": "heading",
     "level": 2,
     "metadata": {},
     "source": [
      "Reproject to your image"
     ]
    },
    {
     "cell_type": "code",
     "collapsed": false,
     "input": [
      "from kapteyn.maputils import FITSimage\n",
      "flux_image = FITSimage('diffuse_integral_flux.fits', hdunr=1)\n",
      "reference_image = FITSimage('10_500_counts.fits')\n",
      "flux_image2 = flux_image.reproject_to(reference_image)\n",
      "flux_image2.writetofits('diffuse_integral_flux_reprojected.fits', clobber=True)"
     ],
     "language": "python",
     "metadata": {},
     "outputs": [
      {
       "output_type": "stream",
       "stream": "stderr",
       "text": [
        "Overwriting existing file 'diffuse_integral_flux_reprojected.fits'.\n"
       ]
      }
     ],
     "prompt_number": 4
    },
    {
     "cell_type": "heading",
     "level": 2,
     "metadata": {},
     "source": [
      "Diffuse expected counts image"
     ]
    },
    {
     "cell_type": "code",
     "collapsed": false,
     "input": [
      "#exposure = Quantity(1.5768e11, 'cm^2 s')\n",
      "#surface_brightness = Quantity(image.data.mean(), 'cm^-2 s^-1 sr^-1')\n",
      "#print('Mean surface brightness in image: {0}'.format(surface_brightness))\n",
      "\n",
      "header = fits.getheader('10_500_counts.fits')\n",
      "\n",
      "exposure = fits.getdata('exposure_10_GeV.fits')\n",
      "exposure = Quantity(exposure, 'cm^2 s')\n",
      "\n",
      "flux = fits.getdata('diffuse_integral_flux_reprojected.fits')\n",
      "flux = Quantity(flux, 'cm^-2 s^-1 sr^-1')\n",
      "\n",
      "pixel_size = Quantity(0.1, 'deg') ** 2\n",
      "expected_counts = (exposure * pixel_size * flux).to('').value\n",
      "\n",
      "fits.writeto(filename='diffuse_counts.fits', data=expected_counts, header=header, clobber=True)"
     ],
     "language": "python",
     "metadata": {},
     "outputs": [
      {
       "output_type": "stream",
       "stream": "stderr",
       "text": [
        "WARNING: Overwriting existing file 'diffuse_counts.fits'. [astropy.io.fits.file]\n",
        "WARNING:astropy:Overwriting existing file 'diffuse_counts.fits'.\n"
       ]
      }
     ],
     "prompt_number": 5
    },
    {
     "cell_type": "heading",
     "level": 1,
     "metadata": {},
     "source": [
      "Compute some numbers to check if this looks OK"
     ]
    },
    {
     "cell_type": "code",
     "collapsed": false,
     "input": [
      "(0.1 * Quantity(5, 'year') * Quantity(1, 'm^2')).to('cm^2 s')"
     ],
     "language": "python",
     "metadata": {},
     "outputs": [
      {
       "latex": [
        "$1.57788\\times 10^{+11} \\; \\mathrm{cm^{2}\\,s}$"
       ],
       "metadata": {},
       "output_type": "pyout",
       "prompt_number": 6,
       "text": [
        "<Quantity 157788000000.0 cm2 s>"
       ]
      }
     ],
     "prompt_number": 6
    },
    {
     "cell_type": "code",
     "collapsed": false,
     "input": [
      "# TODO: Counts should roughly match Fermi counts, which is 1 count / pixel in the Galactic plane.\n"
     ],
     "language": "python",
     "metadata": {},
     "outputs": [],
     "prompt_number": 7
    }
   ],
   "metadata": {}
  }
 ]
}