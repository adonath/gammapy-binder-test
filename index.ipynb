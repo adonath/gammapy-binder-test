{
 "cells": [
  {
   "cell_type": "markdown",
   "metadata": {},
   "source": [
    "<img src=\"gammapy_banner.png\" style=\"width: 700px;\">"
   ]
  },
  {
   "cell_type": "markdown",
   "metadata": {},
   "source": [
    "# Gammapy IPython notebooks"
   ]
  },
  {
   "cell_type": "markdown",
   "metadata": {},
   "source": [
    "## What is this?"
   ]
  },
  {
   "cell_type": "markdown",
   "metadata": {},
   "source": [
    "This directory contains [Jupyter notebooks](http://jupyter.org/) (a.k.a. [IPython notebooks](http://ipython.org/notebook.html) until recently) that show examples what can be done with [Gammapy](https://github.com/gammapy/gammapy).\n",
    "\n",
    "This complements the [Gammapy Sphinx-based documentation](https://gammapy.readthedocs.org/en/latest/).\n",
    "\n",
    "A [static HTML version of these notebooks](http://nbviewer.ipython.org/github/gammapy/gammapy-extra/tree/master/notebooks/) (i.e. code can't be executed) is available via the online [nbviewer](http://nbviewer.ipython.org/).\n",
    "\n",
    "If you want to try out Gammapy quickly you should install IPython and Gammapy and then get the [gammapy-extra](https://github.com/gammapy/gammapy-extra) repo (either via git or as a zip file) and then go to the `notebooks` folder in a terminal and type:\n",
    "\n",
    "    $ jupyter notebook\n",
    "\n",
    "or alternatively:\n",
    "\n",
    "    $ ipython notebook"
   ]
  },
  {
   "cell_type": "markdown",
   "metadata": {},
   "source": [
    "## Notebooks\n",
    "\n",
    "The following notebooks are good placed to get started with Gammapy and gamma-ray data analysis.\n",
    "\n",
    "* [hess_image_analysis.ipynb](hess_image_analysis.ipynb): Make a significance image of the Crab nebula with (simulated) H.E.S.S. data\n",
    "* TODO: HESS crab image fit\n",
    "* [fermi_ts_map.ipynb](fermi_ts_map.ipynb): Make a Galactic plane survey test statistics (TS) map in with Fermi-LAT data\n",
    "* [hess_spectrum_analysis.ipynb](hess_spectrum_analysis.ipynb): Run a spectral analysis of the Crab nebula with (simulated) H.E.S.S. data\n",
    "* TODO: IACT data and IRF examples\n",
    "* [source_catalogs.ipynb](source_catalogs.ipynb) : Working with gamma-ray source catalogs"
   ]
  },
  {
   "cell_type": "markdown",
   "metadata": {},
   "source": [
    "## Work in progress\n",
    "\n",
    "The following notebooks aren't very good.\n",
    "\n",
    "Please help make these better, or write new, better ones!\n",
    "\n",
    "* [diffuse_model_computation.ipynb](diffuse_model_computation.ipynb) : Diffuse model computation\n",
    "* [fermi_vela_model.ipynb](fermi_vela_model.ipynb) : Fermi Vela model\n",
    "* [plot_results.ipynb](plot_results.ipynb) : Plot results for iterative background estimation\n",
    "* [source_diffuse_estimation.ipynb](source_diffuse_estimation.ipynb) : Source and diffuse emission estimation\n",
    "* [source_population_model.ipynb](source_population_model.ipynb) : Galactic source population model\n",
    "* [spiral_arms.ipynb](spiral_arms.ipynb) : Spiral arm model image\n"
   ]
  },
  {
   "cell_type": "code",
   "execution_count": null,
   "metadata": {
    "collapsed": true
   },
   "outputs": [],
   "source": []
  }
 ],
 "metadata": {
  "kernelspec": {
   "display_name": "Python 3",
   "language": "python",
   "name": "python3"
  },
  "language_info": {
   "codemirror_mode": {
    "name": "ipython",
    "version": 3
   },
   "file_extension": ".py",
   "mimetype": "text/x-python",
   "name": "python",
   "nbconvert_exporter": "python",
   "pygments_lexer": "ipython3",
   "version": "3.5.1"
  }
 },
 "nbformat": 4,
 "nbformat_minor": 0
}
